{
 "cells": [
  {
   "cell_type": "code",
   "execution_count": 2,
   "metadata": {},
   "outputs": [],
   "source": [
    "import os\n",
    "import csv\n",
    "import pandas as pd\n",
    "import numpy as np\n",
    "from matplotlib.pyplot import *\n",
    "import matplotlib.pyplot as plt\n",
    "from matplotlib import animation\n",
    "from matplotlib import cm\n",
    "from sklearn.cluster import KMeans\n",
    "from sklearn.neighbors import KNeighborsClassifier\n",
    "from dateutil import parser\n",
    "import io\n",
    "import base64\n",
    "from subprocess import check_output"
   ]
  },
  {
   "cell_type": "code",
   "execution_count": 4,
   "metadata": {},
   "outputs": [],
   "source": [
    "train = pd.read_csv('train.csv')\n",
    "test = pd.read_csv('test.csv')"
   ]
  },
  {
   "cell_type": "code",
   "execution_count": 5,
   "metadata": {},
   "outputs": [],
   "source": [
    "#Datetyping the dates\n",
    "train['pickup_datetime'] = pd.to_datetime(train.pickup_datetime)\n",
    "test['pickup_datetime'] = pd.to_datetime(test.pickup_datetime)\n",
    "\n",
    "train.drop(['dropoff_datetime'], axis=1, inplace=True) #as we don't have this feature in the testset\n",
    "\n",
    "#Date features creations and deletions\n",
    "train['month'] = train.pickup_datetime.dt.month\n",
    "train['week'] = train.pickup_datetime.dt.week\n",
    "train['weekday'] = train.pickup_datetime.dt.weekday\n",
    "train['hour'] = train.pickup_datetime.dt.hour\n",
    "train['minute'] = train.pickup_datetime.dt.minute\n",
    "train['minute_oftheday'] = train['hour'] * 60 + train['minute']\n",
    "train.drop(['minute'], axis=1, inplace=True)\n",
    "\n",
    "test['month'] = test.pickup_datetime.dt.month\n",
    "test['week'] = test.pickup_datetime.dt.week\n",
    "test['weekday'] = test.pickup_datetime.dt.weekday\n",
    "test['hour'] = test.pickup_datetime.dt.hour\n",
    "test['minute'] = test.pickup_datetime.dt.minute\n",
    "test['minute_oftheday'] = test['hour'] * 60 + test['minute']\n",
    "test.drop(['minute'], axis=1, inplace=True)\n",
    "\n",
    "train.drop(['pickup_datetime'], axis=1, inplace=True)"
   ]
  },
  {
   "cell_type": "code",
   "execution_count": 6,
   "metadata": {},
   "outputs": [],
   "source": [
    "#One-hot encoding binary categorical features\n",
    "train = pd.concat([train, pd.get_dummies(train['store_and_fwd_flag'])], axis=1)\n",
    "test = pd.concat([test, pd.get_dummies(test['store_and_fwd_flag'])], axis=1)\n",
    "\n",
    "train.drop(['store_and_fwd_flag'], axis=1, inplace=True)\n",
    "\n",
    "train = pd.concat([train, pd.get_dummies(train['vendor_id'])], axis=1)\n",
    "test = pd.concat([test, pd.get_dummies(test['vendor_id'])], axis=1)\n",
    "\n",
    "train.drop(['vendor_id'], axis=1, inplace=True)"
   ]
  },
  {
   "cell_type": "code",
   "execution_count": 7,
   "metadata": {},
   "outputs": [],
   "source": [
    "def ft_haversine_distance(lat1, lng1, lat2, lng2):\n",
    "    lat1, lng1, lat2, lng2 = map(np.radians, (lat1, lng1, lat2, lng2))\n",
    "    AVG_EARTH_RADIUS = 6371 #km\n",
    "    lat = lat2 - lat1\n",
    "    lng = lng2 - lng1\n",
    "    d = np.sin(lat * 0.5) ** 2 + np.cos(lat1) * np.cos(lat2) * np.sin(lng * 0.5) ** 2\n",
    "    h = 2 * AVG_EARTH_RADIUS * np.arcsin(np.sqrt(d))\n",
    "    return h\n",
    "\n",
    "#Add distance feature\n",
    "train['distance'] = ft_haversine_distance(train['pickup_latitude'].values,\n",
    "                                                 train['pickup_longitude'].values, \n",
    "                                                 train['dropoff_latitude'].values,\n",
    "                                                 train['dropoff_longitude'].values)\n",
    "test['distance'] = ft_haversine_distance(test['pickup_latitude'].values, \n",
    "                                                test['pickup_longitude'].values, \n",
    "                                                test['dropoff_latitude'].values, \n",
    "                                                test['dropoff_longitude'].values)"
   ]
  },
  {
   "cell_type": "code",
   "execution_count": 8,
   "metadata": {},
   "outputs": [],
   "source": [
    "#Function aiming at calculating the direction\n",
    "def ft_degree(lat1, lng1, lat2, lng2):\n",
    "    AVG_EARTH_RADIUS = 6371 #km\n",
    "    lng_delta_rad = np.radians(lng2 - lng1)\n",
    "    lat1, lng1, lat2, lng2 = map(np.radians, (lat1, lng1, lat2, lng2))\n",
    "    y = np.sin(lng_delta_rad) * np.cos(lat2)\n",
    "    x = np.cos(lat1) * np.sin(lat2) - np.sin(lat1) * np.cos(lat2) * np.cos(lng_delta_rad)\n",
    "    return np.degrees(np.arctan2(y, x))\n",
    "\n",
    "#Add direction feature\n",
    "train['direction'] = ft_degree(train['pickup_latitude'].values,\n",
    "                                train['pickup_longitude'].values,\n",
    "                                train['dropoff_latitude'].values,\n",
    "                                train['dropoff_longitude'].values)\n",
    "test['direction'] = ft_degree(test['pickup_latitude'].values,\n",
    "                                  test['pickup_longitude'].values, \n",
    "                                  test['dropoff_latitude'].values,\n",
    "                                  test['dropoff_longitude'].values)"
   ]
  },
  {
   "cell_type": "code",
   "execution_count": 9,
   "metadata": {},
   "outputs": [],
   "source": [
    "train = train[(train.distance < 200)]"
   ]
  },
  {
   "cell_type": "code",
   "execution_count": 10,
   "metadata": {},
   "outputs": [],
   "source": [
    "#Create speed feature\n",
    "train['speed'] = train.distance / train.trip_duration"
   ]
  },
  {
   "cell_type": "code",
   "execution_count": 11,
   "metadata": {},
   "outputs": [],
   "source": [
    "#Remove speed outliers\n",
    "train = train[(train.speed < 30)]\n",
    "train.drop(['speed'], axis=1, inplace=True)"
   ]
  },
  {
   "cell_type": "code",
   "execution_count": 12,
   "metadata": {},
   "outputs": [],
   "source": [
    "feature_cols = ['passenger_count','pickup_longitude','pickup_latitude',\n",
    "                'dropoff_longitude','dropoff_latitude',\n",
    "                'N','Y','month','week','weekday','hour',\n",
    "                'minute_oftheday','distance','direction']"
   ]
  },
  {
   "cell_type": "code",
   "execution_count": 13,
   "metadata": {},
   "outputs": [],
   "source": [
    "x_train = train[feature_cols]\n",
    "y_train = np.log1p(train['trip_duration']) \n",
    "x_test = test[feature_cols]"
   ]
  },
  {
   "cell_type": "code",
   "execution_count": 14,
   "metadata": {},
   "outputs": [
    {
     "name": "stderr",
     "output_type": "stream",
     "text": [
      "D:\\Anaconda\\lib\\site-packages\\xgboost\\core.py:587: FutureWarning: Series.base is deprecated and will be removed in a future version\n",
      "  if getattr(data, 'base', None) is not None and \\\n"
     ]
    }
   ],
   "source": [
    "import xgboost as xgb\n",
    "from sklearn.model_selection import train_test_split\n",
    "\n",
    "x_train, x_valid, y_train, y_valid = train_test_split(x_train, y_train, test_size=0.2, random_state=1)\n",
    "Xcv,Xv,Zcv,Zv = train_test_split(x_valid, y_valid, test_size=0.4, random_state=1)\n",
    "data_tr  = xgb.DMatrix(x_train, label=y_train)\n",
    "data_cv  = xgb.DMatrix(Xcv   , label=Zcv)\n",
    "evallist = [(data_tr, 'train'), (data_cv, 'valid')]"
   ]
  },
  {
   "cell_type": "code",
   "execution_count": 15,
   "metadata": {},
   "outputs": [
    {
     "name": "stdout",
     "output_type": "stream",
     "text": [
      "[17:38:49] WARNING: src/objective/regression_obj.cu:152: reg:linear is now deprecated in favor of reg:squarederror.\n",
      "[0]\ttrain-rmse:5.72073\tvalid-rmse:5.72035\n",
      "Multiple eval metrics have been passed: 'valid-rmse' will be used for early stopping.\n",
      "\n",
      "Will train until valid-rmse hasn't improved in 100 rounds.\n",
      "[100]\ttrain-rmse:0.384427\tvalid-rmse:0.394851\n",
      "[200]\ttrain-rmse:0.363907\tvalid-rmse:0.385796\n",
      "[300]\ttrain-rmse:0.354646\tvalid-rmse:0.383351\n",
      "[400]\ttrain-rmse:0.348084\tvalid-rmse:0.381874\n",
      "[500]\ttrain-rmse:0.343272\tvalid-rmse:0.381283\n",
      "[600]\ttrain-rmse:0.338454\tvalid-rmse:0.380287\n",
      "[700]\ttrain-rmse:0.33471\tvalid-rmse:0.379798\n",
      "[800]\ttrain-rmse:0.331078\tvalid-rmse:0.379354\n",
      "[900]\ttrain-rmse:0.327455\tvalid-rmse:0.378877\n",
      "[999]\ttrain-rmse:0.323859\tvalid-rmse:0.378396\n"
     ]
    }
   ],
   "source": [
    "parms = {'max_depth':10, \n",
    "         'objective':'reg:linear',\n",
    "         'eta'      :0.05,\n",
    "         'subsample':0.8,#SGD will use this percentage of data\n",
    "#         'lambda '  :4, #L2 regularization term,>1 more conservative \n",
    "#         'colsample_bytree ':0.9,\n",
    "         'colsample_bylevel':1,\n",
    "         'min_child_weight': 10,\n",
    "         'nthread'  :3}  #number of cpu core to use\n",
    "\n",
    "clf = xgb.train(parms, data_tr, num_boost_round=1000, evals = evallist,\n",
    "                  early_stopping_rounds=100, maximize=False, \n",
    "                  verbose_eval=100)"
   ]
  },
  {
   "cell_type": "code",
   "execution_count": 16,
   "metadata": {},
   "outputs": [
    {
     "name": "stdout",
     "output_type": "stream",
     "text": [
      "score = 0.37839, n_boost_round =998.\n"
     ]
    }
   ],
   "source": [
    "print('score = %1.5f, n_boost_round =%d.'%(clf.best_score,clf.best_iteration))"
   ]
  },
  {
   "cell_type": "code",
   "execution_count": 17,
   "metadata": {},
   "outputs": [],
   "source": [
    "import pickle"
   ]
  },
  {
   "cell_type": "code",
   "execution_count": 18,
   "metadata": {},
   "outputs": [],
   "source": [
    "pickle.dump(clf, open(\"pima.pickle.dat\", \"wb\"))#保存模型"
   ]
  },
  {
   "cell_type": "code",
   "execution_count": 19,
   "metadata": {},
   "outputs": [
    {
     "data": {
      "text/html": [
       "<div>\n",
       "<style scoped>\n",
       "    .dataframe tbody tr th:only-of-type {\n",
       "        vertical-align: middle;\n",
       "    }\n",
       "\n",
       "    .dataframe tbody tr th {\n",
       "        vertical-align: top;\n",
       "    }\n",
       "\n",
       "    .dataframe thead th {\n",
       "        text-align: right;\n",
       "    }\n",
       "</style>\n",
       "<table border=\"1\" class=\"dataframe\">\n",
       "  <thead>\n",
       "    <tr style=\"text-align: right;\">\n",
       "      <th></th>\n",
       "      <th>passenger_count</th>\n",
       "      <th>pickup_longitude</th>\n",
       "      <th>pickup_latitude</th>\n",
       "      <th>dropoff_longitude</th>\n",
       "      <th>dropoff_latitude</th>\n",
       "      <th>N</th>\n",
       "      <th>Y</th>\n",
       "      <th>month</th>\n",
       "      <th>week</th>\n",
       "      <th>weekday</th>\n",
       "      <th>hour</th>\n",
       "      <th>minute_oftheday</th>\n",
       "      <th>distance</th>\n",
       "      <th>direction</th>\n",
       "    </tr>\n",
       "  </thead>\n",
       "  <tbody>\n",
       "    <tr>\n",
       "      <th>0</th>\n",
       "      <td>1</td>\n",
       "      <td>-73.988129</td>\n",
       "      <td>40.732029</td>\n",
       "      <td>-73.990173</td>\n",
       "      <td>40.756680</td>\n",
       "      <td>1</td>\n",
       "      <td>0</td>\n",
       "      <td>6</td>\n",
       "      <td>26</td>\n",
       "      <td>3</td>\n",
       "      <td>23</td>\n",
       "      <td>1439</td>\n",
       "      <td>2.746426</td>\n",
       "      <td>-3.595224</td>\n",
       "    </tr>\n",
       "    <tr>\n",
       "      <th>1</th>\n",
       "      <td>1</td>\n",
       "      <td>-73.964203</td>\n",
       "      <td>40.679993</td>\n",
       "      <td>-73.959808</td>\n",
       "      <td>40.655403</td>\n",
       "      <td>1</td>\n",
       "      <td>0</td>\n",
       "      <td>6</td>\n",
       "      <td>26</td>\n",
       "      <td>3</td>\n",
       "      <td>23</td>\n",
       "      <td>1439</td>\n",
       "      <td>2.759239</td>\n",
       "      <td>172.278835</td>\n",
       "    </tr>\n",
       "    <tr>\n",
       "      <th>2</th>\n",
       "      <td>1</td>\n",
       "      <td>-73.997437</td>\n",
       "      <td>40.737583</td>\n",
       "      <td>-73.986160</td>\n",
       "      <td>40.729523</td>\n",
       "      <td>1</td>\n",
       "      <td>0</td>\n",
       "      <td>6</td>\n",
       "      <td>26</td>\n",
       "      <td>3</td>\n",
       "      <td>23</td>\n",
       "      <td>1439</td>\n",
       "      <td>1.306155</td>\n",
       "      <td>133.326248</td>\n",
       "    </tr>\n",
       "    <tr>\n",
       "      <th>3</th>\n",
       "      <td>1</td>\n",
       "      <td>-73.956070</td>\n",
       "      <td>40.771900</td>\n",
       "      <td>-73.986427</td>\n",
       "      <td>40.730469</td>\n",
       "      <td>1</td>\n",
       "      <td>0</td>\n",
       "      <td>6</td>\n",
       "      <td>26</td>\n",
       "      <td>3</td>\n",
       "      <td>23</td>\n",
       "      <td>1439</td>\n",
       "      <td>5.269088</td>\n",
       "      <td>-150.956833</td>\n",
       "    </tr>\n",
       "    <tr>\n",
       "      <th>4</th>\n",
       "      <td>1</td>\n",
       "      <td>-73.970215</td>\n",
       "      <td>40.761475</td>\n",
       "      <td>-73.961510</td>\n",
       "      <td>40.755890</td>\n",
       "      <td>1</td>\n",
       "      <td>0</td>\n",
       "      <td>6</td>\n",
       "      <td>26</td>\n",
       "      <td>3</td>\n",
       "      <td>23</td>\n",
       "      <td>1439</td>\n",
       "      <td>0.960842</td>\n",
       "      <td>130.260381</td>\n",
       "    </tr>\n",
       "  </tbody>\n",
       "</table>\n",
       "</div>"
      ],
      "text/plain": [
       "   passenger_count  pickup_longitude  pickup_latitude  dropoff_longitude  \\\n",
       "0                1        -73.988129        40.732029         -73.990173   \n",
       "1                1        -73.964203        40.679993         -73.959808   \n",
       "2                1        -73.997437        40.737583         -73.986160   \n",
       "3                1        -73.956070        40.771900         -73.986427   \n",
       "4                1        -73.970215        40.761475         -73.961510   \n",
       "\n",
       "   dropoff_latitude  N  Y  month  week  weekday  hour  minute_oftheday  \\\n",
       "0         40.756680  1  0      6    26        3    23             1439   \n",
       "1         40.655403  1  0      6    26        3    23             1439   \n",
       "2         40.729523  1  0      6    26        3    23             1439   \n",
       "3         40.730469  1  0      6    26        3    23             1439   \n",
       "4         40.755890  1  0      6    26        3    23             1439   \n",
       "\n",
       "   distance   direction  \n",
       "0  2.746426   -3.595224  \n",
       "1  2.759239  172.278835  \n",
       "2  1.306155  133.326248  \n",
       "3  5.269088 -150.956833  \n",
       "4  0.960842  130.260381  "
      ]
     },
     "execution_count": 19,
     "metadata": {},
     "output_type": "execute_result"
    }
   ],
   "source": [
    "x_test.head()"
   ]
  },
  {
   "cell_type": "code",
   "execution_count": 23,
   "metadata": {},
   "outputs": [],
   "source": [
    "x_test[:10].to_csv('x_test.csv',header=True)"
   ]
  },
  {
   "cell_type": "code",
   "execution_count": null,
   "metadata": {},
   "outputs": [],
   "source": []
  },
  {
   "cell_type": "code",
   "execution_count": null,
   "metadata": {},
   "outputs": [],
   "source": []
  },
  {
   "cell_type": "code",
   "execution_count": null,
   "metadata": {},
   "outputs": [],
   "source": []
  }
 ],
 "metadata": {
  "kernelspec": {
   "display_name": "Python 3",
   "language": "python",
   "name": "python3"
  },
  "language_info": {
   "codemirror_mode": {
    "name": "ipython",
    "version": 3
   },
   "file_extension": ".py",
   "mimetype": "text/x-python",
   "name": "python",
   "nbconvert_exporter": "python",
   "pygments_lexer": "ipython3",
   "version": "3.6.7"
  }
 },
 "nbformat": 4,
 "nbformat_minor": 2
}
